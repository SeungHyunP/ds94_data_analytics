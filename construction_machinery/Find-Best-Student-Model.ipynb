{
 "cells": [
  {
   "cell_type": "markdown",
   "id": "db1692cc",
   "metadata": {},
   "source": [
    "### Import Library"
   ]
  },
  {
   "cell_type": "code",
   "execution_count": 17,
   "id": "0039ac8d",
   "metadata": {},
   "outputs": [
    {
     "name": "stdout",
     "output_type": "stream",
     "text": [
      "Number of Null: 0\n"
     ]
    }
   ],
   "source": [
    "import os\n",
    "import pandas as pd\n",
    "import numpy as np\n",
    "from shutil import copyfile\n",
    "\n",
    "file_root_list = ['s_noBase', 's_noBase_CRD']\n",
    "\n",
    "hyper_pd = pd.DataFrame(columns=['File', 'Hyperparameters', 'T-F1', 'S-F1', 'Final'])\n",
    "\n",
    "for f in file_root_list:\n",
    "    result = pd.read_csv('./Result/Performance/'+f+'.csv')\n",
    "    result.columns = ['Hyperparameters', 'T-F1', 'S-F1', 'Final']\n",
    "    result['File'] = f\n",
    "    \n",
    "    hyper_pd = pd.concat([hyper_pd, result])\n",
    "    \n",
    "hyper_pd = hyper_pd.sort_values(by=['S-F1', 'Final'], ascending=False)\n",
    "hyper_pd.reset_index(drop=True, inplace=True)\n",
    "\n",
    "best_hyper_pd = hyper_pd.head().copy()\n",
    "print('Number of Null: {}'.format(hyper_pd['Final'].isnull().sum()))"
   ]
  },
  {
   "cell_type": "code",
   "execution_count": 18,
   "id": "e261b819",
   "metadata": {},
   "outputs": [
    {
     "data": {
      "text/html": [
       "<div>\n",
       "<style scoped>\n",
       "    .dataframe tbody tr th:only-of-type {\n",
       "        vertical-align: middle;\n",
       "    }\n",
       "\n",
       "    .dataframe tbody tr th {\n",
       "        vertical-align: top;\n",
       "    }\n",
       "\n",
       "    .dataframe thead th {\n",
       "        text-align: right;\n",
       "    }\n",
       "</style>\n",
       "<table border=\"1\" class=\"dataframe\">\n",
       "  <thead>\n",
       "    <tr style=\"text-align: right;\">\n",
       "      <th></th>\n",
       "      <th>File</th>\n",
       "      <th>Hyperparameters</th>\n",
       "      <th>T-F1</th>\n",
       "      <th>S-F1</th>\n",
       "      <th>Final</th>\n",
       "    </tr>\n",
       "  </thead>\n",
       "  <tbody>\n",
       "    <tr>\n",
       "      <th>0</th>\n",
       "      <td>s_noBase_CRD</td>\n",
       "      <td>0.0001_1e-07_0_[128, 512, 512, 128]</td>\n",
       "      <td>0.755815</td>\n",
       "      <td>0.542451</td>\n",
       "      <td>0.541896</td>\n",
       "    </tr>\n",
       "    <tr>\n",
       "      <th>1</th>\n",
       "      <td>s_noBase</td>\n",
       "      <td>0.0001_1e-07_0.001_[128, 512, 128]</td>\n",
       "      <td>0.755815</td>\n",
       "      <td>0.538894</td>\n",
       "      <td>0.535955</td>\n",
       "    </tr>\n",
       "    <tr>\n",
       "      <th>2</th>\n",
       "      <td>s_noBase_CRD</td>\n",
       "      <td>0.0001_1e-08_0.001_[256, 1024, 1024, 256]</td>\n",
       "      <td>0.755815</td>\n",
       "      <td>0.536358</td>\n",
       "      <td>0.543466</td>\n",
       "    </tr>\n",
       "    <tr>\n",
       "      <th>3</th>\n",
       "      <td>s_noBase</td>\n",
       "      <td>0.0001_1e-07_0_[128, 512, 128]</td>\n",
       "      <td>0.755815</td>\n",
       "      <td>0.533913</td>\n",
       "      <td>0.537577</td>\n",
       "    </tr>\n",
       "    <tr>\n",
       "      <th>4</th>\n",
       "      <td>s_noBase</td>\n",
       "      <td>0.0001_1e-07_0_[128, 512, 512, 128]</td>\n",
       "      <td>0.755815</td>\n",
       "      <td>0.533206</td>\n",
       "      <td>0.549612</td>\n",
       "    </tr>\n",
       "  </tbody>\n",
       "</table>\n",
       "</div>"
      ],
      "text/plain": [
       "           File                            Hyperparameters      T-F1  \\\n",
       "0  s_noBase_CRD        0.0001_1e-07_0_[128, 512, 512, 128]  0.755815   \n",
       "1      s_noBase         0.0001_1e-07_0.001_[128, 512, 128]  0.755815   \n",
       "2  s_noBase_CRD  0.0001_1e-08_0.001_[256, 1024, 1024, 256]  0.755815   \n",
       "3      s_noBase             0.0001_1e-07_0_[128, 512, 128]  0.755815   \n",
       "4      s_noBase        0.0001_1e-07_0_[128, 512, 512, 128]  0.755815   \n",
       "\n",
       "       S-F1     Final  \n",
       "0  0.542451  0.541896  \n",
       "1  0.538894  0.535955  \n",
       "2  0.536358  0.543466  \n",
       "3  0.533913  0.537577  \n",
       "4  0.533206  0.549612  "
      ]
     },
     "execution_count": 18,
     "metadata": {},
     "output_type": "execute_result"
    }
   ],
   "source": [
    "best_hyper_pd"
   ]
  },
  {
   "cell_type": "code",
   "execution_count": 19,
   "id": "e0f41f84",
   "metadata": {},
   "outputs": [
    {
     "name": "stdout",
     "output_type": "stream",
     "text": [
      "Label Ratio: 10.71654(12892/1203)\n"
     ]
    }
   ],
   "source": [
    "data_root_path = '/data/jyhwang/construction_machinery/Data/sampling'\n",
    "\n",
    "train_data_root_path = os.path.join(data_root_path, 'Train', 'no')\n",
    "train_y = np.load(os.path.join(train_data_root_path, 'y.npy'))\n",
    "\n",
    "val_data_root_path = os.path.join(data_root_path, 'Validation')\n",
    "val_y = np.load(os.path.join(val_data_root_path, 'y.npy'))\n",
    "\n",
    "zero_num = sum(train_y == 0) + sum(val_y==0)\n",
    "one_num = sum(train_y == 1) + sum(val_y==1)\n",
    "\n",
    "train_ratio = zero_num/one_num\n",
    "\n",
    "print('Label Ratio: {:.5f}({}/{})'.format(train_ratio, zero_num, one_num))"
   ]
  },
  {
   "cell_type": "code",
   "execution_count": 20,
   "id": "a82cbb90",
   "metadata": {},
   "outputs": [
    {
     "name": "stdout",
     "output_type": "stream",
     "text": [
      "File Path: ./Result/Submit/nos_noBase_CRD/0.0001_1e-07_0_[128, 512, 512, 128].csv, Final F1: 0.5418960368888257\n",
      "Tesst Ratio: 11.37910(5553/488)\n",
      "\n",
      "\n",
      "File Path: ./Result/Submit/nos_noBase/0.0001_1e-07_0.001_[128, 512, 128].csv, Final F1: 0.5359547246496419\n",
      "Tesst Ratio: 13.38333(5621/420)\n",
      "\n",
      "\n",
      "File Path: ./Result/Submit/nos_noBase_CRD/0.0001_1e-08_0.001_[256, 1024, 1024, 256].csv, Final F1: 0.5434657090550626\n",
      "Tesst Ratio: 16.51014(5696/345)\n",
      "\n",
      "\n",
      "File Path: ./Result/Submit/nos_noBase/0.0001_1e-07_0_[128, 512, 128].csv, Final F1: 0.5375774629150999\n",
      "Tesst Ratio: 13.87931(5635/406)\n",
      "\n",
      "\n",
      "File Path: ./Result/Submit/nos_noBase/0.0001_1e-07_0_[128, 512, 512, 128].csv, Final F1: 0.54961191057409\n",
      "Tesst Ratio: 14.37150(5648/393)\n",
      "\n",
      "\n"
     ]
    }
   ],
   "source": [
    "for i in range(5):\n",
    "    if best_hyper_pd.iloc[i, 0] == 's_noBase':\n",
    "        file_path = os.path.join('./Result/Submit/', 'nos_noBase', best_hyper_pd.iloc[i, 1]+'.csv')\n",
    "    else:\n",
    "        file_path = os.path.join('./Result/Submit/', 'nos_noBase_CRD', best_hyper_pd.iloc[i, 1]+'.csv')\n",
    "    result = pd.read_csv(file_path)\n",
    "\n",
    "    zero_num = sum(result['Y_LABEL'] == 0)\n",
    "    one_num = sum(result['Y_LABEL'] == 1)\n",
    "\n",
    "    test_ratio = zero_num/one_num\n",
    "    \n",
    "    print('File Path: {}, Final F1: {}'.format(file_path, best_hyper_pd.iloc[i, 4]))\n",
    "    print('Tesst Ratio: {:.5f}({}/{})\\n\\n'.format(test_ratio, zero_num, one_num))"
   ]
  },
  {
   "cell_type": "code",
   "execution_count": 21,
   "id": "dea0659b",
   "metadata": {},
   "outputs": [
    {
     "data": {
      "text/plain": [
       "'./Result/11_27/submit.csv'"
      ]
     },
     "execution_count": 21,
     "metadata": {},
     "output_type": "execute_result"
    }
   ],
   "source": [
    "copyfile('./Result/Submit/nos_noBase_CRD/0.0001_1e-07_0_[128, 512, 512, 128].csv',\n",
    "         './Result/11_27/submit.csv')"
   ]
  }
 ],
 "metadata": {
  "kernelspec": {
   "display_name": "Python 3 (ipykernel)",
   "language": "python",
   "name": "python3"
  },
  "language_info": {
   "codemirror_mode": {
    "name": "ipython",
    "version": 3
   },
   "file_extension": ".py",
   "mimetype": "text/x-python",
   "name": "python",
   "nbconvert_exporter": "python",
   "pygments_lexer": "ipython3",
   "version": "3.10.6"
  }
 },
 "nbformat": 4,
 "nbformat_minor": 5
}
