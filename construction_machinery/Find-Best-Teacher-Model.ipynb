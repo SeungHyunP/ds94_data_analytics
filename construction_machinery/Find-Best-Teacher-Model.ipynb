{
 "cells": [
  {
   "cell_type": "markdown",
   "id": "14f1382c",
   "metadata": {},
   "source": [
    "### Import Library"
   ]
  },
  {
   "cell_type": "code",
   "execution_count": 15,
   "id": "be996f17",
   "metadata": {},
   "outputs": [
    {
     "name": "stdout",
     "output_type": "stream",
     "text": [
      "Number of Null: 18\n"
     ]
    }
   ],
   "source": [
    "import os\n",
    "import pandas as pd\n",
    "import numpy as np\n",
    "from shutil import copyfile\n",
    "\n",
    "file_root_list = ['noBase', 'noBase_CRD', 'noBase_SfotTriple', \n",
    "                  'overBase_Soft_CRD', 'overBase', 'overBase_CRD', 'overBase_SfotTriple', 'overBase_Soft_CRD']\n",
    "\n",
    "\n",
    "hyper_pd = pd.DataFrame(columns=['File', 'Hyperparameters', 'T-F1', 'S-F1', 'Final'])\n",
    "\n",
    "for f in file_root_list:\n",
    "    result = pd.read_csv('./Result/Performance/'+f+'.csv')\n",
    "    result.columns = ['Hyperparameters', 'T-F1', 'S-F1', 'Final']\n",
    "    result['File'] = f\n",
    "    \n",
    "    hyper_pd = pd.concat([hyper_pd, result])\n",
    "    \n",
    "hyper_pd = hyper_pd.sort_values(by=['T-F1', 'S-F1'], ascending=False)\n",
    "hyper_pd.reset_index(drop=True, inplace=True)\n",
    "\n",
    "best_hyper_pd = hyper_pd.head().copy()\n",
    "print('Number of Null: {}'.format(hyper_pd['Final'].isnull().sum()))"
   ]
  },
  {
   "cell_type": "code",
   "execution_count": 16,
   "id": "9dc6e2ad",
   "metadata": {},
   "outputs": [
    {
     "data": {
      "text/html": [
       "<div>\n",
       "<style scoped>\n",
       "    .dataframe tbody tr th:only-of-type {\n",
       "        vertical-align: middle;\n",
       "    }\n",
       "\n",
       "    .dataframe tbody tr th {\n",
       "        vertical-align: top;\n",
       "    }\n",
       "\n",
       "    .dataframe thead th {\n",
       "        text-align: right;\n",
       "    }\n",
       "</style>\n",
       "<table border=\"1\" class=\"dataframe\">\n",
       "  <thead>\n",
       "    <tr style=\"text-align: right;\">\n",
       "      <th></th>\n",
       "      <th>File</th>\n",
       "      <th>Hyperparameters</th>\n",
       "      <th>T-F1</th>\n",
       "      <th>S-F1</th>\n",
       "      <th>Final</th>\n",
       "    </tr>\n",
       "  </thead>\n",
       "  <tbody>\n",
       "    <tr>\n",
       "      <th>0</th>\n",
       "      <td>noBase_CRD</td>\n",
       "      <td>0.001_1e-08_0.001_[256, 1024, 256]</td>\n",
       "      <td>0.755382</td>\n",
       "      <td>0.506179</td>\n",
       "      <td>0.540033</td>\n",
       "    </tr>\n",
       "    <tr>\n",
       "      <th>1</th>\n",
       "      <td>noBase</td>\n",
       "      <td>0.001_1e-07_0.001_[128, 512, 512, 128]</td>\n",
       "      <td>0.753990</td>\n",
       "      <td>0.508984</td>\n",
       "      <td>0.547629</td>\n",
       "    </tr>\n",
       "    <tr>\n",
       "      <th>2</th>\n",
       "      <td>noBase_CRD</td>\n",
       "      <td>0.001_1e-08_0_[128, 512, 128]</td>\n",
       "      <td>0.752081</td>\n",
       "      <td>0.494190</td>\n",
       "      <td>0.532004</td>\n",
       "    </tr>\n",
       "    <tr>\n",
       "      <th>3</th>\n",
       "      <td>noBase</td>\n",
       "      <td>0.001_1e-07_0.001_[256, 1024, 1024, 256]</td>\n",
       "      <td>0.751294</td>\n",
       "      <td>0.498083</td>\n",
       "      <td>0.535790</td>\n",
       "    </tr>\n",
       "    <tr>\n",
       "      <th>4</th>\n",
       "      <td>noBase</td>\n",
       "      <td>0.001_1e-07_0.001_[256, 1024, 256]</td>\n",
       "      <td>0.751268</td>\n",
       "      <td>0.503652</td>\n",
       "      <td>0.544887</td>\n",
       "    </tr>\n",
       "  </tbody>\n",
       "</table>\n",
       "</div>"
      ],
      "text/plain": [
       "         File                           Hyperparameters      T-F1      S-F1  \\\n",
       "0  noBase_CRD        0.001_1e-08_0.001_[256, 1024, 256]  0.755382  0.506179   \n",
       "1      noBase    0.001_1e-07_0.001_[128, 512, 512, 128]  0.753990  0.508984   \n",
       "2  noBase_CRD             0.001_1e-08_0_[128, 512, 128]  0.752081  0.494190   \n",
       "3      noBase  0.001_1e-07_0.001_[256, 1024, 1024, 256]  0.751294  0.498083   \n",
       "4      noBase        0.001_1e-07_0.001_[256, 1024, 256]  0.751268  0.503652   \n",
       "\n",
       "      Final  \n",
       "0  0.540033  \n",
       "1  0.547629  \n",
       "2  0.532004  \n",
       "3  0.535790  \n",
       "4  0.544887  "
      ]
     },
     "execution_count": 16,
     "metadata": {},
     "output_type": "execute_result"
    }
   ],
   "source": [
    "best_hyper_pd"
   ]
  },
  {
   "cell_type": "markdown",
   "id": "574109ac",
   "metadata": {},
   "source": [
    "### Train Best Teacher Model"
   ]
  },
  {
   "cell_type": "code",
   "execution_count": 7,
   "id": "c51b0756",
   "metadata": {},
   "outputs": [],
   "source": [
    "from Model.Base_Model import ANN\n",
    "from Train.Base_Model import *\n",
    "from torch.utils.data import DataLoader"
   ]
  },
  {
   "cell_type": "code",
   "execution_count": 10,
   "id": "359906d6",
   "metadata": {},
   "outputs": [],
   "source": [
    "# Setting Seed\n",
    "device = torch.device('cuda:' + str(0)) if torch.cuda.is_available() else torch.device('cpu')\n",
    "    \n",
    "CFG = {\n",
    "        'EPOCHS': 1000,\n",
    "        'BATCH_SIZE': 256,\n",
    "        'SEED': 41,\n",
    "        'In_Hidden': 27,\n",
    "        'S_In_Hidden': 14,\n",
    "        'Print_epoch': 50,\n",
    "        'kd_T': 4,\n",
    "        'LEARNING_RATE': 0.001,\n",
    "        'REG': 0.001,\n",
    "        'In_hidden_list': [256, 1024, 256],\n",
    "        'MIN_LR': 1e-08,\n",
    "    }\n",
    "\n",
    "seed_everything(CFG['SEED'])\n",
    "\n",
    "# Train\n",
    "train_dataset = CustomDataset(kind='train', sampling='no')\n",
    "train_loader = DataLoader(train_dataset, batch_size=CFG['BATCH_SIZE'], shuffle=True)\n",
    "\n",
    "# Validation\n",
    "val_dataset = CustomDataset(kind='val')\n",
    "val_loader = DataLoader(val_dataset, batch_size=CFG['BATCH_SIZE'], shuffle=False)"
   ]
  },
  {
   "cell_type": "code",
   "execution_count": 11,
   "id": "1653ad48",
   "metadata": {},
   "outputs": [
    {
     "name": "stdout",
     "output_type": "stream",
     "text": [
      "Epoch [0], Train Loss : [0.31964] Val Loss : [0.28669] Val F1 Score : [0.72201]\n",
      "Epoch [50], Train Loss : [0.16266] Val Loss : [0.27660] Val F1 Score : [0.73731]\n",
      "Epoch [100], Train Loss : [0.15063] Val Loss : [0.27918] Val F1 Score : [0.74975]\n",
      "Epoch [150], Train Loss : [0.15028] Val Loss : [0.27370] Val F1 Score : [0.74861]\n",
      "Epoch [200], Train Loss : [0.15199] Val Loss : [0.27425] Val F1 Score : [0.74741]\n",
      "Epoch [250], Train Loss : [0.15137] Val Loss : [0.27764] Val F1 Score : [0.74727]\n",
      "Epoch [300], Train Loss : [0.15132] Val Loss : [0.27408] Val F1 Score : [0.74629]\n",
      "Epoch [350], Train Loss : [0.15400] Val Loss : [0.27709] Val F1 Score : [0.74898]\n",
      "Epoch [400], Train Loss : [0.15024] Val Loss : [0.27585] Val F1 Score : [0.74937]\n",
      "Epoch [450], Train Loss : [0.15027] Val Loss : [0.27680] Val F1 Score : [0.75127]\n",
      "Epoch [500], Train Loss : [0.15089] Val Loss : [0.28117] Val F1 Score : [0.74047]\n",
      "Epoch [550], Train Loss : [0.15026] Val Loss : [0.27520] Val F1 Score : [0.74622]\n",
      "Epoch [600], Train Loss : [0.14979] Val Loss : [0.27656] Val F1 Score : [0.75051]\n",
      "Epoch [650], Train Loss : [0.15103] Val Loss : [0.27516] Val F1 Score : [0.74136]\n",
      "Epoch [700], Train Loss : [0.14947] Val Loss : [0.27497] Val F1 Score : [0.74274]\n",
      "Epoch [750], Train Loss : [0.15221] Val Loss : [0.27520] Val F1 Score : [0.74593]\n",
      "Epoch [800], Train Loss : [0.15160] Val Loss : [0.27585] Val F1 Score : [0.74782]\n",
      "Epoch [850], Train Loss : [0.15005] Val Loss : [0.27796] Val F1 Score : [0.74822]\n",
      "Epoch [900], Train Loss : [0.15161] Val Loss : [0.27429] Val F1 Score : [0.74895]\n",
      "Epoch [950], Train Loss : [0.14919] Val Loss : [0.27513] Val F1 Score : [0.74705]\n",
      "Best Score: 0.75581\n",
      "Teacher F1: 0.7558149169189978\n"
     ]
    }
   ],
   "source": [
    "# Train Teacher Model\n",
    "model = ANN([CFG['In_Hidden']] + CFG['In_hidden_list'])\n",
    "model.eval()\n",
    "optimizer = torch.optim.Adam(model.parameters(), lr=CFG['LEARNING_RATE'], weight_decay=CFG['REG'])\n",
    "scheduler = torch.optim.lr_scheduler.ReduceLROnPlateau(optimizer, mode='max', factor=0.5, patience=1,\n",
    "                                                               threshold_mode='abs', min_lr=CFG['MIN_LR'],\n",
    "                                                               verbose=False)\n",
    "teacher_model, T_F1 = train(model, optimizer, train_loader, val_loader, scheduler, device, CFG)\n",
    "\n",
    "print('Teacher F1: {}'.format(T_F1))"
   ]
  },
  {
   "cell_type": "code",
   "execution_count": 14,
   "id": "8e0e381f",
   "metadata": {},
   "outputs": [],
   "source": [
    "torch.save(teacher_model.state_dict(), './Result/Model/Teacher/teacher.pth')"
   ]
  }
 ],
 "metadata": {
  "kernelspec": {
   "display_name": "Python 3 (ipykernel)",
   "language": "python",
   "name": "python3"
  },
  "language_info": {
   "codemirror_mode": {
    "name": "ipython",
    "version": 3
   },
   "file_extension": ".py",
   "mimetype": "text/x-python",
   "name": "python",
   "nbconvert_exporter": "python",
   "pygments_lexer": "ipython3",
   "version": "3.10.6"
  }
 },
 "nbformat": 4,
 "nbformat_minor": 5
}
